{
 "cells": [
  {
   "cell_type": "code",
   "execution_count": 1,
   "metadata": {},
   "outputs": [
    {
     "name": "stderr",
     "output_type": "stream",
     "text": [
      "C:\\Users\\06006637\\AppData\\Local\\Continuum\\anaconda3\\lib\\site-packages\\statsmodels\\tools\\_testing.py:19: FutureWarning: pandas.util.testing is deprecated. Use the functions in the public API at pandas.testing instead.\n",
      "  import pandas.util.testing as tm\n"
     ]
    }
   ],
   "source": [
    "import plotly.express as px\n",
    "import pandas as pd\n",
    "import pandas as pd\n",
    "import numpy as np\n",
    "import seaborn as sns\n",
    "import matplotlib.pyplot as plt\n",
    "from matplotlib import rcParams\n",
    "from scipy.stats import skew"
   ]
  },
  {
   "cell_type": "code",
   "execution_count": 2,
   "metadata": {},
   "outputs": [],
   "source": [
    "raw_data=pd.read_excel('aol-05~10.xlsx')"
   ]
  },
  {
   "cell_type": "code",
   "execution_count": 3,
   "metadata": {},
   "outputs": [
    {
     "data": {
      "text/html": [
       "<div>\n",
       "<style scoped>\n",
       "    .dataframe tbody tr th:only-of-type {\n",
       "        vertical-align: middle;\n",
       "    }\n",
       "\n",
       "    .dataframe tbody tr th {\n",
       "        vertical-align: top;\n",
       "    }\n",
       "\n",
       "    .dataframe thead th {\n",
       "        text-align: right;\n",
       "    }\n",
       "</style>\n",
       "<table border=\"1\" class=\"dataframe\">\n",
       "  <thead>\n",
       "    <tr style=\"text-align: right;\">\n",
       "      <th></th>\n",
       "      <th>Unnamed: 0</th>\n",
       "      <th>time</th>\n",
       "      <th>epoch</th>\n",
       "      <th>E_AOLRUNTIME</th>\n",
       "      <th>E_ONLWDG</th>\n",
       "    </tr>\n",
       "  </thead>\n",
       "  <tbody>\n",
       "    <tr>\n",
       "      <th>0</th>\n",
       "      <td>NaN</td>\n",
       "      <td>2022-10-01 00:00:00</td>\n",
       "      <td>1664553600000</td>\n",
       "      <td>44834.957</td>\n",
       "      <td>0</td>\n",
       "    </tr>\n",
       "    <tr>\n",
       "      <th>1</th>\n",
       "      <td>NaN</td>\n",
       "      <td>2022-10-01 00:01:00</td>\n",
       "      <td>1664553660000</td>\n",
       "      <td>44834.957</td>\n",
       "      <td>0</td>\n",
       "    </tr>\n",
       "    <tr>\n",
       "      <th>2</th>\n",
       "      <td>NaN</td>\n",
       "      <td>2022-10-01 00:02:00</td>\n",
       "      <td>1664553720000</td>\n",
       "      <td>44834.957</td>\n",
       "      <td>0</td>\n",
       "    </tr>\n",
       "    <tr>\n",
       "      <th>3</th>\n",
       "      <td>NaN</td>\n",
       "      <td>2022-10-01 00:03:00</td>\n",
       "      <td>1664553780000</td>\n",
       "      <td>44834.957</td>\n",
       "      <td>0</td>\n",
       "    </tr>\n",
       "    <tr>\n",
       "      <th>4</th>\n",
       "      <td>NaN</td>\n",
       "      <td>2022-10-01 00:04:00</td>\n",
       "      <td>1664553840000</td>\n",
       "      <td>44834.957</td>\n",
       "      <td>0</td>\n",
       "    </tr>\n",
       "  </tbody>\n",
       "</table>\n",
       "</div>"
      ],
      "text/plain": [
       "   Unnamed: 0                time          epoch  E_AOLRUNTIME  E_ONLWDG\n",
       "0         NaN 2022-10-01 00:00:00  1664553600000     44834.957         0\n",
       "1         NaN 2022-10-01 00:01:00  1664553660000     44834.957         0\n",
       "2         NaN 2022-10-01 00:02:00  1664553720000     44834.957         0\n",
       "3         NaN 2022-10-01 00:03:00  1664553780000     44834.957         0\n",
       "4         NaN 2022-10-01 00:04:00  1664553840000     44834.957         0"
      ]
     },
     "execution_count": 3,
     "metadata": {},
     "output_type": "execute_result"
    }
   ],
   "source": [
    "raw_data.head()"
   ]
  },
  {
   "cell_type": "code",
   "execution_count": 4,
   "metadata": {},
   "outputs": [],
   "source": [
    "df = raw_data"
   ]
  },
  {
   "cell_type": "code",
   "execution_count": 5,
   "metadata": {},
   "outputs": [
    {
     "data": {
      "text/plain": [
       "0        0\n",
       "1        0\n",
       "2        0\n",
       "3        0\n",
       "4        0\n",
       "        ..\n",
       "19527    0\n",
       "19528    0\n",
       "19529    0\n",
       "19530    0\n",
       "19531    0\n",
       "Name: E_ONLWDG, Length: 19532, dtype: int64"
      ]
     },
     "execution_count": 5,
     "metadata": {},
     "output_type": "execute_result"
    }
   ],
   "source": [
    "df['E_ONLWDG']"
   ]
  },
  {
   "cell_type": "code",
   "execution_count": 4,
   "metadata": {},
   "outputs": [
    {
     "data": {
      "text/plain": [
       "RangeIndex(start=0, stop=19532, step=1)"
      ]
     },
     "execution_count": 4,
     "metadata": {},
     "output_type": "execute_result"
    }
   ],
   "source": [
    "df.index  #由此得到data frame之index的範圍(有多少列)"
   ]
  },
  {
   "cell_type": "code",
   "execution_count": 10,
   "metadata": {},
   "outputs": [
    {
     "data": {
      "text/plain": [
       "35"
      ]
     },
     "execution_count": 10,
     "metadata": {},
     "output_type": "execute_result"
    }
   ],
   "source": [
    "df.at[34,'E_ONLWDG']  #由.at ，可抓取指定index、column的數值"
   ]
  },
  {
   "cell_type": "code",
   "execution_count": 19,
   "metadata": {},
   "outputs": [],
   "source": [
    "stop_list=[] \n",
    "start_list=[]\n",
    "for i in range (2,19531):  #使用index一一挑出符合條件的時間\n",
    "    x0 = df.at[i,'E_ONLWDG']\n",
    "    x1 = df.at[i+1,'E_ONLWDG']\n",
    "    x2 = df.at[i-1,'E_ONLWDG']\n",
    "    \n",
    "    if x0 ==0 and x1-x0>30 :\n",
    "        x_stop = i\n",
    "        stop_time = df.at[x_stop,'time']       \n",
    "        stop_list.append(stop_time)\n",
    "#        print(stop_time)\n",
    "        \n",
    "    if x0 ==0 and x2-x0==1:\n",
    "        x_start = i\n",
    "        start_time = df.at[x_start,'time']\n",
    "        start_list.append(start_time)\n",
    "#        print(start_time)\n",
    "        \n",
    "#創建一data frame將紀錄時間存檔\n",
    "\n",
    "df_stop = pd.DataFrame(stop_list, columns=['Stop time'])     \n",
    "df_start = pd.DataFrame(start_list, columns=['Start time']) \n",
    "df_final = pd.concat([df_start,df_stop], axis=1)\n",
    "df_final.to_excel('模型錯誤時間統計.xlsx')\n",
    "        "
   ]
  },
  {
   "cell_type": "code",
   "execution_count": null,
   "metadata": {},
   "outputs": [],
   "source": []
  }
 ],
 "metadata": {
  "kernelspec": {
   "display_name": "Python 3",
   "language": "python",
   "name": "python3"
  },
  "language_info": {
   "codemirror_mode": {
    "name": "ipython",
    "version": 3
   },
   "file_extension": ".py",
   "mimetype": "text/x-python",
   "name": "python",
   "nbconvert_exporter": "python",
   "pygments_lexer": "ipython3",
   "version": "3.7.3"
  }
 },
 "nbformat": 4,
 "nbformat_minor": 2
}
